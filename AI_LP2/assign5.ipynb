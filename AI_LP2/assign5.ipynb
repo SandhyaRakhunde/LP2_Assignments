{
 "cells": [
  {
   "cell_type": "code",
   "execution_count": 13,
   "metadata": {},
   "outputs": [
    {
     "name": "stderr",
     "output_type": "stream",
     "text": [
      "[nltk_data] Downloading package wordnet to /home/student/nltk_data...\n"
     ]
    },
    {
     "data": {
      "text/plain": [
       "True"
      ]
     },
     "execution_count": 13,
     "metadata": {},
     "output_type": "execute_result"
    }
   ],
   "source": [
    "import nltk\n",
    "nltk.download('wordnet')"
   ]
  },
  {
   "cell_type": "code",
   "execution_count": 16,
   "metadata": {},
   "outputs": [
    {
     "name": "stderr",
     "output_type": "stream",
     "text": [
      "[nltk_data] Downloading package omw-1.4 to /home/student/nltk_data...\n"
     ]
    },
    {
     "data": {
      "text/plain": [
       "True"
      ]
     },
     "execution_count": 16,
     "metadata": {},
     "output_type": "execute_result"
    }
   ],
   "source": [
    "import nltk\n",
    "nltk.download('omw-1.4')"
   ]
  },
  {
   "cell_type": "code",
   "execution_count": 17,
   "metadata": {},
   "outputs": [],
   "source": [
    "import re \n",
    "from nltk.corpus import wordnet"
   ]
  },
  {
   "cell_type": "code",
   "execution_count": 32,
   "metadata": {},
   "outputs": [
    {
     "name": "stdout",
     "output_type": "stream",
     "text": [
      "{'hello': {'how do you do', 'hullo', 'hi', 'howdy', 'hello'}, 'timings': {'clock', 'timing', 'time'}, 'shop': {'patronize', 'patronise', 'shop', 'give away', 'betray', 'rat', 'shop class', 'shop at', 'denounce', 'grass', 'tell on', 'store', 'frequent', 'stag', 'workshop', 'browse', 'shit', 'snitch', 'buy at', 'sponsor'}, 'item': {'item', 'detail', 'particular', 'token', 'point'}, 'cost': {'cost', 'be', 'price', 'toll', 'monetary value'}, 'thanks': {'give thanks', 'thanks', 'thank'}}\n"
     ]
    }
   ],
   "source": [
    "list_words=['hello','timings','shop','item','cost','thanks']\n",
    "list_syn={}\n",
    "for word in list_words:\n",
    "    synonyms=[]\n",
    "    for syn in wordnet.synsets(word):\n",
    "        for lem in syn.lemmas():\n",
    "            lem_name = re.sub('[^a-zA-Z0-9 \\n\\.]', ' ', lem.name())\n",
    "            synonyms.append(lem_name)\n",
    "    list_syn[word]=set(synonyms)\n",
    "print (list_syn)"
   ]
  },
  {
   "cell_type": "code",
   "execution_count": 33,
   "metadata": {},
   "outputs": [
    {
     "name": "stdout",
     "output_type": "stream",
     "text": [
      "{'greet': re.compile('.*\\\\bhow do you do\\\\b.*|.*\\\\bhullo\\\\b.*|.*\\\\bhi\\\\b.*|.*\\\\bhowdy\\\\b.*|.*\\\\bhello\\\\b.*'), 'timings': re.compile('.*\\\\bclock\\\\b.*|.*\\\\btiming\\\\b.*|.*\\\\btime\\\\b.*'), 'facility': re.compile('.*\\\\bpatronize\\\\b.*|.*\\\\bpatronise\\\\b.*|.*\\\\bshop\\\\b.*|.*\\\\bgive away\\\\b.*|.*\\\\bbetray\\\\b.*|.*\\\\brat\\\\b.*|.*\\\\bshop class\\\\b.*|.*\\\\bshop at\\\\b.*|.*\\\\bdenounce\\\\b.*|.*\\\\bgrass\\\\b.*|.*\\\\btell on\\\\b.*|.), 'items': re.compile('.*\\\\bitem\\\\b.*|.*\\\\bdetail\\\\b.*|.*\\\\bparticular\\\\b.*|.*\\\\btoken\\\\b.*|.*\\\\bpoint\\\\b.*|.*\\\\bitems\\\\b.*'), 'price': re.compile('.*\\\\bcost\\\\b.*|.*\\\\bbe\\\\b.*|.*\\\\bprice\\\\b.*|.*\\\\btoll\\\\b.*|.*\\\\bmonetary value\\\\b.*|.*\\\\bprices\\\\b.*'), 'thanks': re.compile('.*\\\\bgive thanks\\\\b.*|.*\\\\bthanks\\\\b.*|.*\\\\bthank\\\\b.*')}\n"
     ]
    }
   ],
   "source": [
    "keywords={}\n",
    "keywords_dict={}\n",
    "keywords['greet']=[]\n",
    "for synonym in list(list_syn['hello']):\n",
    "    keywords['greet'].append('.*\\\\b'+synonym+'\\\\b.*')\n",
    "\n",
    "keywords['timings']=[]\n",
    "for synonym in list(list_syn['timings']):\n",
    "    keywords['timings'].append('.*\\\\b'+synonym+'\\\\b.*')\n",
    "\n",
    "    \n",
    "keywords['facility']=[]\n",
    "for synonym in list(list_syn['shop']):\n",
    "    keywords['facility'].append('.*\\\\b'+synonym+'\\\\b.*')\n",
    "\n",
    "    \n",
    "keywords['items']=[]\n",
    "for synonym in list(list_syn['item']):\n",
    "    keywords['items'].append('.*\\\\b'+synonym+'\\\\b.*')\n",
    "keywords['items'].append('.*\\\\b'+'items'+'\\\\b.*')\n",
    "\n",
    "keywords['price']=[]\n",
    "for synonym in list(list_syn['cost']):\n",
    "    keywords['price'].append('.*\\\\b'+synonym+'\\\\b.*')\n",
    "keywords['price'].append('.*\\\\b'+'prices'+'\\\\b.*')\n",
    "\n",
    "keywords['thanks']=[]\n",
    "for synonym in list(list_syn['thanks']):\n",
    "    keywords['thanks'].append('.*\\\\b'+synonym+'\\\\b.*')\n",
    "    \n",
    "for intent, keys in keywords.items():\n",
    "    keywords_dict[intent]=re.compile('|'.join(keys))\n",
    "print (keywords_dict)"
   ]
  },
  {
   "cell_type": "code",
   "execution_count": 36,
   "metadata": {},
   "outputs": [],
   "source": [
    "# Building a dictionary of responses\n",
    "responses={\n",
    "    'greet':'Hello! How can I help you? \\n',\n",
    "    'timings':'We are open from 9AM to 5PM, Monday to Friday. We are closed on weekends and public holidays. \\n',\n",
    "    'price':'Pepsi-co: 20rs \\n MountainDew: 20rs \\n Coke: 40rs \\n Sprite:30rs \\n Thumbsup: 20rs \\n Mazza: 10rs \\n Frooti: 10rs \\n ',\n",
    "    'items':'THE ITEMS PROVIDED ARE \\n 1.Pepsi-co \\n 2.MountainDew \\n 3.Coke \\n 4.Sprite \\n 5.Thumbsup \\n 6.Mazza \\n 7.Frooti \\n',\n",
    "    'facility':'Welcome to our soft drink shop. We sell soft drink at a very cheap price and also sell items in wholesale \\n',\n",
    "    'thanks':'Glad to help you out \\n',\n",
    "    'fallback':'I dont quite understand. Could you repeat that? \\n',\n",
    "}"
   ]
  },
  {
   "cell_type": "code",
   "execution_count": 44,
   "metadata": {},
   "outputs": [
    {
     "name": "stdout",
     "output_type": "stream",
     "text": [
      "WELCOME TO THE SOFTYSHOP!!!! \n",
      " How can i help you \n",
      "\n",
      "hi\n",
      "Hello! How can I help you? \n",
      "\n",
      "what are the facilities provided by the shop\n",
      "Welcome to our soft drink shop. We sell soft drink at a very cheap price and also sell items in wholesale \n",
      "\n",
      "what are the items available\n",
      "THE ITEMS PROVIDED ARE \n",
      " 1.Pepsi-co \n",
      " 2.MountainDew \n",
      " 3.Coke \n",
      " 4.Sprite \n",
      " 5.Thumbsup \n",
      " 6.Mazza \n",
      " 7.Frooti \n",
      "\n",
      "what are the prices\n",
      "Pepsi-co: 20rs \n",
      " MountainDew: 20rs \n",
      " Coke: 40rs \n",
      " Sprite:30rs \n",
      " Thumbsup: 20rs \n",
      " Mazza: 10rs \n",
      " Frooti: 10rs \n",
      " \n",
      "thanks\n",
      "Glad to help you out \n",
      "\n",
      "bye\n",
      "Thank you for visiting. For further inquiry you can also contact at 6789456767\n"
     ]
    }
   ],
   "source": [
    "print (\"WELCOME TO THE SOFTYSHOP!!!! \\n How can i help you \\n\")\n",
    "# While loop to run the chatbot indefinetely\n",
    "while (True):  \n",
    "    user_input = input().lower()\n",
    "    if user_input == 'quit': \n",
    "        print (\"Thank you for visiting. For further inquiry you can also contact at 6789456767\")\n",
    "        break  \n",
    "    if user_input == 'bye': \n",
    "        print (\"Thank you for visiting. For further inquiry you can also contact at 6789456767\")\n",
    "        break\n",
    " \n",
    "    \n",
    "    matched_intent = None \n",
    "    for intent,pattern in keywords_dict.items():\n",
    "        if re.search(pattern, user_input): \n",
    "            matched_intent=intent  \n",
    "    key='fallback' \n",
    "    if matched_intent in responses:\n",
    "        key = matched_intent\n",
    "\n",
    "    print (responses[key])"
   ]
  },
  {
   "cell_type": "code",
   "execution_count": null,
   "metadata": {},
   "outputs": [],
   "source": []
  }
 ],
 "metadata": {
  "kernelspec": {
   "display_name": "Python 3",
   "language": "python",
   "name": "python3"
  },
  "language_info": {
   "codemirror_mode": {
    "name": "ipython",
    "version": 3
   },
   "file_extension": ".py",
   "mimetype": "text/x-python",
   "name": "python",
   "nbconvert_exporter": "python",
   "pygments_lexer": "ipython3",
   "version": "3.8.10"
  }
 },
 "nbformat": 4,
 "nbformat_minor": 4
}
